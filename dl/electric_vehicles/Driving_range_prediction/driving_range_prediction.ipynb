{
 "cells": [
  {
   "cell_type": "markdown",
   "id": "47e700b2",
   "metadata": {},
   "source": [
    "## Electric vehicle driving range prediction\n",
    "\n",
    "The main challenge of EVs is to determine and increase the trip distance precisely. To understand the importance of this issue, the concept of energy consumption rate (ECR) shoud be followed at first, vehicle manufacturers set a specific factor as the ECR at production which is explained with kilowatthours per hundred kilometers. The car manufacturer calculates the ECR parameter under certain circumstances, meaning that it differs from actual value in real world. In reality, the use of auxiliary equipment, air temperature, traffic volume, type of the road, driving patterns and the driving speed noticeably affect the ECR. Therefore, achieving high precisions in trip distance estimation is cosidered as a complex problem with many influencing concepts changing it. \n",
    "\n",
    "Here, using a publicity available dataset, driving range estimation of a specific electric vehicle model is examined. Multiple regression models are trained based on the features like the avarage speed, type of the route and driving style, then the driving range prediction accuracy is investigated using mean absulote error.  \n",
    "\n",
    "To develop the driving range estimator, several popular regression models are compared. \n",
    "Linear regression, simple multilayer perceptron(MLP), random forest(RF) and adaptive boosting (AdaBoost).\n",
    "\n",
    "Distance (km) is labaled as the target. \n",
    "\n",
    "The K-fold cross-validation is applied to validate the models. \n",
    "Half of the dataset is used as training set and the other half is used as the test set, then this train-test method is repeated ten times (k=10) to give us the final accuracy score as the aveage of the results of the ten iterations.\n",
    "\n"
   ]
  },
  {
   "cell_type": "markdown",
   "id": "87bb2cff",
   "metadata": {},
   "source": [
    "### Import Libraries "
   ]
  },
  {
   "cell_type": "code",
   "execution_count": 1,
   "id": "ea6f7626",
   "metadata": {},
   "outputs": [],
   "source": [
    "## import libraries\n",
    "import pandas as pd\n",
    "import numpy as np\n",
    "import matplotlib.pyplot as plt\n",
    "import seaborn as sns"
   ]
  },
  {
   "cell_type": "code",
   "execution_count": 2,
   "id": "aae703f6",
   "metadata": {},
   "outputs": [],
   "source": [
    "from sklearn.linear_model import LinearRegression\n",
    "from sklearn.neural_network import MLPRegressor\n",
    "from sklearn.ensemble import RandomForestRegressor, AdaBoostRegressor\n",
    "from sklearn.model_selection import train_test_split, ShuffleSplit, cross_validate\n",
    "from sklearn.preprocessing import LabelEncoder, OneHotEncoder, StandardScaler\n",
    "from sklearn.metrics import mean_squared_error, r2_score, mean_absolute_error\n"
   ]
  },
  {
   "cell_type": "code",
   "execution_count": 3,
   "id": "adcb4819",
   "metadata": {},
   "outputs": [],
   "source": [
    "file = 'final_preprocessed_with_outliers.csv'\n"
   ]
  },
  {
   "cell_type": "markdown",
   "id": "a82f24dc",
   "metadata": {},
   "source": [
    "### Load dataset\n",
    "\n",
    "There is public dataset (SpritMonitor). "
   ]
  },
  {
   "cell_type": "code",
   "execution_count": 4,
   "id": "bf25426b",
   "metadata": {},
   "outputs": [],
   "source": [
    "#\"\"\"load the data\"\"\"\n",
    "dataset = pd.read_csv(filepath_or_buffer=file)"
   ]
  },
  {
   "cell_type": "code",
   "execution_count": 5,
   "id": "254cc557",
   "metadata": {},
   "outputs": [
    {
     "data": {
      "text/html": [
       "<div>\n",
       "<style scoped>\n",
       "    .dataframe tbody tr th:only-of-type {\n",
       "        vertical-align: middle;\n",
       "    }\n",
       "\n",
       "    .dataframe tbody tr th {\n",
       "        vertical-align: top;\n",
       "    }\n",
       "\n",
       "    .dataframe thead th {\n",
       "        text-align: right;\n",
       "    }\n",
       "</style>\n",
       "<table border=\"1\" class=\"dataframe\">\n",
       "  <thead>\n",
       "    <tr style=\"text-align: right;\">\n",
       "      <th></th>\n",
       "      <th>trip_distance(km)</th>\n",
       "      <th>quantity(kWh)</th>\n",
       "      <th>city</th>\n",
       "      <th>motor_way</th>\n",
       "      <th>country_roads</th>\n",
       "      <th>consumption(kWh/100km)</th>\n",
       "      <th>A/C</th>\n",
       "      <th>park_heating</th>\n",
       "      <th>avg_speed(km/h)</th>\n",
       "      <th>ecr_deviation</th>\n",
       "      <th>encoded_driving_style</th>\n",
       "      <th>encoded_tire_type</th>\n",
       "    </tr>\n",
       "  </thead>\n",
       "  <tbody>\n",
       "    <tr>\n",
       "      <th>0</th>\n",
       "      <td>50.0</td>\n",
       "      <td>12.29</td>\n",
       "      <td>0</td>\n",
       "      <td>0</td>\n",
       "      <td>1</td>\n",
       "      <td>15.5</td>\n",
       "      <td>0</td>\n",
       "      <td>1</td>\n",
       "      <td>47.0</td>\n",
       "      <td>-1.3</td>\n",
       "      <td>0.0</td>\n",
       "      <td>1</td>\n",
       "    </tr>\n",
       "    <tr>\n",
       "      <th>1</th>\n",
       "      <td>43.0</td>\n",
       "      <td>8.68</td>\n",
       "      <td>0</td>\n",
       "      <td>1</td>\n",
       "      <td>1</td>\n",
       "      <td>18.0</td>\n",
       "      <td>0</td>\n",
       "      <td>1</td>\n",
       "      <td>58.0</td>\n",
       "      <td>1.2</td>\n",
       "      <td>0.0</td>\n",
       "      <td>1</td>\n",
       "    </tr>\n",
       "    <tr>\n",
       "      <th>2</th>\n",
       "      <td>44.0</td>\n",
       "      <td>1.50</td>\n",
       "      <td>0</td>\n",
       "      <td>1</td>\n",
       "      <td>1</td>\n",
       "      <td>16.1</td>\n",
       "      <td>0</td>\n",
       "      <td>1</td>\n",
       "      <td>43.0</td>\n",
       "      <td>-0.7</td>\n",
       "      <td>0.0</td>\n",
       "      <td>1</td>\n",
       "    </tr>\n",
       "    <tr>\n",
       "      <th>3</th>\n",
       "      <td>76.0</td>\n",
       "      <td>14.44</td>\n",
       "      <td>0</td>\n",
       "      <td>1</td>\n",
       "      <td>0</td>\n",
       "      <td>19.0</td>\n",
       "      <td>0</td>\n",
       "      <td>1</td>\n",
       "      <td>76.0</td>\n",
       "      <td>2.2</td>\n",
       "      <td>0.0</td>\n",
       "      <td>1</td>\n",
       "    </tr>\n",
       "    <tr>\n",
       "      <th>4</th>\n",
       "      <td>15.0</td>\n",
       "      <td>6.84</td>\n",
       "      <td>1</td>\n",
       "      <td>0</td>\n",
       "      <td>0</td>\n",
       "      <td>16.1</td>\n",
       "      <td>0</td>\n",
       "      <td>1</td>\n",
       "      <td>23.0</td>\n",
       "      <td>-0.7</td>\n",
       "      <td>0.0</td>\n",
       "      <td>1</td>\n",
       "    </tr>\n",
       "  </tbody>\n",
       "</table>\n",
       "</div>"
      ],
      "text/plain": [
       "   trip_distance(km)  quantity(kWh)  city  motor_way  country_roads  \\\n",
       "0               50.0          12.29     0          0              1   \n",
       "1               43.0           8.68     0          1              1   \n",
       "2               44.0           1.50     0          1              1   \n",
       "3               76.0          14.44     0          1              0   \n",
       "4               15.0           6.84     1          0              0   \n",
       "\n",
       "   consumption(kWh/100km)  A/C  park_heating  avg_speed(km/h)  ecr_deviation  \\\n",
       "0                    15.5    0             1             47.0           -1.3   \n",
       "1                    18.0    0             1             58.0            1.2   \n",
       "2                    16.1    0             1             43.0           -0.7   \n",
       "3                    19.0    0             1             76.0            2.2   \n",
       "4                    16.1    0             1             23.0           -0.7   \n",
       "\n",
       "   encoded_driving_style  encoded_tire_type  \n",
       "0                    0.0                  1  \n",
       "1                    0.0                  1  \n",
       "2                    0.0                  1  \n",
       "3                    0.0                  1  \n",
       "4                    0.0                  1  "
      ]
     },
     "execution_count": 5,
     "metadata": {},
     "output_type": "execute_result"
    }
   ],
   "source": [
    "dataset.head()"
   ]
  },
  {
   "cell_type": "markdown",
   "id": "56ef1b2d",
   "metadata": {},
   "source": [
    "The features are used to train models. among them, (a/c) is inside vehicle air conditioning and the park_heating is car's heating system. Both are considered as auxiliary loads and increase vehicle energy consumption when being used during the trip. ecr_deviation is based on the difference between the energy consumption rate recorded at each trip and the value announced by the manufacturer, which is stated as 16.8 kwh/100km."
   ]
  },
  {
   "cell_type": "code",
   "execution_count": 6,
   "id": "7a014c05",
   "metadata": {},
   "outputs": [
    {
     "name": "stdout",
     "output_type": "stream",
     "text": [
      "<class 'pandas.core.frame.DataFrame'>\n",
      "RangeIndex: 3340 entries, 0 to 3339\n",
      "Data columns (total 12 columns):\n",
      " #   Column                  Non-Null Count  Dtype  \n",
      "---  ------                  --------------  -----  \n",
      " 0   trip_distance(km)       3340 non-null   float64\n",
      " 1   quantity(kWh)           3340 non-null   float64\n",
      " 2   city                    3340 non-null   int64  \n",
      " 3   motor_way               3340 non-null   int64  \n",
      " 4   country_roads           3340 non-null   int64  \n",
      " 5   consumption(kWh/100km)  3340 non-null   float64\n",
      " 6   A/C                     3340 non-null   int64  \n",
      " 7   park_heating            3340 non-null   int64  \n",
      " 8   avg_speed(km/h)         3340 non-null   float64\n",
      " 9   ecr_deviation           3340 non-null   float64\n",
      " 10  encoded_driving_style   3340 non-null   float64\n",
      " 11  encoded_tire_type       3340 non-null   int64  \n",
      "dtypes: float64(6), int64(6)\n",
      "memory usage: 313.2 KB\n"
     ]
    }
   ],
   "source": [
    "dataset.info()"
   ]
  },
  {
   "cell_type": "code",
   "execution_count": 56,
   "id": "71a12469",
   "metadata": {},
   "outputs": [],
   "source": [
    "#dataset = dataset[pd.notnull(obj=dataset['quantity(kWh)'])]\n",
    "#dataset = dataset[pd.notnull(obj=dataset['avg_speed(km/h)'])]"
   ]
  },
  {
   "cell_type": "code",
   "execution_count": 57,
   "id": "399c55c3",
   "metadata": {},
   "outputs": [],
   "source": [
    "#dataset['trip_distance(km)'] = pd.to_numeric(dataset['trip_distance(km)'],errors = 'coerce')"
   ]
  },
  {
   "cell_type": "code",
   "execution_count": 7,
   "id": "03e7caed",
   "metadata": {},
   "outputs": [],
   "source": [
    "## features and target\n",
    "X = dataset.iloc[:, 1:11].values\n",
    "y = dataset.iloc[:, 0].values"
   ]
  },
  {
   "cell_type": "code",
   "execution_count": 8,
   "id": "ceb6f425",
   "metadata": {},
   "outputs": [
    {
     "data": {
      "text/plain": [
       "array([[12.29,  0.  ,  0.  , ..., 47.  , -1.3 ,  0.  ],\n",
       "       [ 8.68,  0.  ,  1.  , ..., 58.  ,  1.2 ,  0.  ],\n",
       "       [ 1.5 ,  0.  ,  1.  , ..., 43.  , -0.7 ,  0.  ],\n",
       "       ...,\n",
       "       [ 4.97,  1.  ,  1.  , ..., 23.  ,  2.3 ,  0.  ],\n",
       "       [ 4.76,  1.  ,  1.  , ..., 46.  ,  7.  ,  2.  ],\n",
       "       [ 7.86,  1.  ,  1.  , ..., 18.  ,  1.5 ,  0.  ]])"
      ]
     },
     "execution_count": 8,
     "metadata": {},
     "output_type": "execute_result"
    }
   ],
   "source": [
    "X"
   ]
  },
  {
   "cell_type": "code",
   "execution_count": 9,
   "id": "bb3170a6",
   "metadata": {},
   "outputs": [
    {
     "name": "stdout",
     "output_type": "stream",
     "text": [
      "Shape of X train :  (3340, 10)\n",
      "Shape of y test :  (3340,)\n",
      "Standard deviation of trip_distance in km: 53.23258416466404\n",
      "Mean of trip_distance in km: 42.078293413173654\n"
     ]
    }
   ],
   "source": [
    "print(\"Shape of X train : \", X.shape)\n",
    "print(\"Shape of y test : \", y.shape)\n",
    "print('Standard deviation of trip_distance in km:', np.std(y))\n",
    "print('Mean of trip_distance in km:', np.mean(y))"
   ]
  },
  {
   "cell_type": "code",
   "execution_count": 10,
   "id": "4f5d2c88",
   "metadata": {},
   "outputs": [
    {
     "name": "stdout",
     "output_type": "stream",
     "text": [
      "10% of the standard deviation : 5.3232584164664045\n",
      "20% of the standard deviation : 10.646516832932809\n"
     ]
    }
   ],
   "source": [
    "\n",
    "print('10% of the standard deviation :', 0.1*np.std(y))\n",
    "print('20% of the standard deviation :', 0.2*np.std(y))\n"
   ]
  },
  {
   "cell_type": "markdown",
   "id": "008fa2c1",
   "metadata": {},
   "source": [
    "To have a good model, the MAE should be lower than the 20% of standard deviation (10.65 km) and for an excellent model, the MAE should be less than 10% of the standard deviation (5,32 km)."
   ]
  },
  {
   "cell_type": "code",
   "execution_count": 38,
   "id": "fcc138e9",
   "metadata": {},
   "outputs": [],
   "source": [
    "# onehot encoding for categorical features with more than 2 categories\n",
    "#from sklearn.compose import ColumnTransformer\n",
    "\n",
    "# driving_style column\n",
    "#ct = ColumnTransformer([(\"driving_style\", OneHotEncoder(), [6])], remainder = 'passthrough')\n",
    "#X = ct.fit_transform(X)\n"
   ]
  },
  {
   "cell_type": "code",
   "execution_count": 18,
   "id": "b6a64c1e",
   "metadata": {},
   "outputs": [],
   "source": [
    "# delete the first column to avoid the dummy variable\n",
    "#X = X[:, 1:]"
   ]
  },
  {
   "cell_type": "code",
   "execution_count": 22,
   "id": "d2ec9388",
   "metadata": {},
   "outputs": [],
   "source": [
    "#y = dataset['trip_distance(km)']\n",
    "#X = dataset.drop(columns=['trip_distance(km)'])"
   ]
  },
  {
   "cell_type": "markdown",
   "id": "dd734df8",
   "metadata": {},
   "source": [
    "### Train and test spliting "
   ]
  },
  {
   "cell_type": "code",
   "execution_count": 11,
   "id": "d69ce290",
   "metadata": {},
   "outputs": [],
   "source": [
    "# split the dataset into training-set and test-set\n",
    "X_train, X_test, y_train, y_test = train_test_split(X, y, test_size=0.2, shuffle=True)"
   ]
  },
  {
   "cell_type": "code",
   "execution_count": 12,
   "id": "7fa5687f",
   "metadata": {},
   "outputs": [
    {
     "name": "stdout",
     "output_type": "stream",
     "text": [
      "Shape of X train :  (2672, 10)\n",
      "Shape of X test :  (668, 10)\n",
      "Shape of y test :  (668,)\n"
     ]
    }
   ],
   "source": [
    "print(\"Shape of X train : \", X_train.shape)\n",
    "print(\"Shape of X test : \", X_test.shape)\n",
    "print(\"Shape of y test : \", y_test.shape)"
   ]
  },
  {
   "cell_type": "code",
   "execution_count": 13,
   "id": "e682b079",
   "metadata": {},
   "outputs": [],
   "source": [
    "# scale the values\n",
    "sc = StandardScaler()\n",
    "X_train = sc.fit_transform(X=X_train)\n",
    "X_test = sc.fit_transform(X=X_test)"
   ]
  },
  {
   "cell_type": "markdown",
   "id": "34301f56",
   "metadata": {},
   "source": [
    "## Machine Learning models and algorithms "
   ]
  },
  {
   "cell_type": "code",
   "execution_count": 14,
   "id": "b0b81a3c",
   "metadata": {},
   "outputs": [],
   "source": [
    "def do_kfold(model):\n",
    "    cv = ShuffleSplit(n_splits=10, test_size=0.5, random_state=2)\n",
    "    results = cross_validate(estimator=model, X=X, y=y, cv=cv, scoring=['neg_mean_absolute_error', 'r2'], n_jobs=-1)\n",
    "    mae_values = results['test_neg_mean_absolute_error']\n",
    "    r2_scores = results['test_r2']\n",
    "    return mae_values, r2_scores"
   ]
  },
  {
   "cell_type": "code",
   "execution_count": 15,
   "id": "2fe1b18e",
   "metadata": {},
   "outputs": [],
   "source": [
    "def do_fit_predict(model):\n",
    "    model.fit(X_train, y_train)\n",
    "    training_pred = model.predict(X_train)\n",
    "    test_pred = model.predict(X_test)\n",
    "    return training_pred, test_pred"
   ]
  },
  {
   "cell_type": "code",
   "execution_count": 16,
   "id": "5513d4ec",
   "metadata": {},
   "outputs": [],
   "source": [
    "def report_cross_val_results(mae_values, r2_scores):\n",
    "    print(\"average MAE values (bias) is:\", abs(round(number=mae_values.mean(), ndigits=3)))\n",
    "    print(\"std deviation of MAE values (variance) is:\", round(number=mae_values.std(), ndigits=3))\n",
    "    best_mae = sorted(mae_values, reverse=False)[-1]\n",
    "    print(\"best MAE value is:\", abs(round(number=best_mae, ndigits=3)))\n",
    "\n",
    "    print(\"average r2 scores (bias) is:\", round(number=r2_scores.mean() * 100, ndigits=3))\n",
    "    print(\"std deviation of r2 scores (variance) is:\", round(number=r2_scores.std() * 100, ndigits=3))\n",
    "    best_r2 = sorted(r2_scores, reverse=False)[-1] * 100\n",
    "    print(\"best r2 score is:\", round(number=best_r2, ndigits=3))\n",
    "    print(\"-------------------------------\")"
   ]
  },
  {
   "cell_type": "code",
   "execution_count": 17,
   "id": "48567a77",
   "metadata": {},
   "outputs": [],
   "source": [
    "def report_results(training_pred, test_pred):\n",
    "    print(\"RMSE on training data: %.3f\" % np.sqrt(mean_squared_error(y_true=y_train, y_pred=training_pred)))\n",
    "    print(\"RMSE on test data: %.3f\" % np.sqrt(mean_squared_error(y_true=y_test, y_pred=test_pred)))\n",
    "    print(\"MAE on training data: %.3f\" % mean_absolute_error(y_true=y_train, y_pred=training_pred))\n",
    "    print(\"MAE on test data: %.3f\" % mean_absolute_error(y_true=y_test, y_pred=test_pred))\n",
    "    print(\"variance score on training data: %.3f\" % r2_score(y_true=y_train, y_pred=training_pred))\n",
    "    print(\"variance score on test data: %.3f\" % r2_score(y_true=y_test, y_pred=test_pred))\n",
    "    print(\"-------------------------------\")"
   ]
  },
  {
   "cell_type": "code",
   "execution_count": 18,
   "id": "070d762e",
   "metadata": {},
   "outputs": [
    {
     "data": {
      "text/plain": [
       "dtype('float64')"
      ]
     },
     "execution_count": 18,
     "metadata": {},
     "output_type": "execute_result"
    }
   ],
   "source": [
    "X.dtype"
   ]
  },
  {
   "cell_type": "code",
   "execution_count": 19,
   "id": "6648a398",
   "metadata": {},
   "outputs": [],
   "source": [
    "\n",
    "#\"\"\"define the linear regression model\"\"\"\n",
    "linear_regressor = LinearRegression()"
   ]
  },
  {
   "cell_type": "code",
   "execution_count": 20,
   "id": "f7c70f38",
   "metadata": {},
   "outputs": [
    {
     "name": "stdout",
     "output_type": "stream",
     "text": [
      "\n",
      " ------ Linear Regression CrossVal ------\n",
      "average MAE values (bias) is: 10.631\n",
      "std deviation of MAE values (variance) is: 0.215\n",
      "best MAE value is: 10.206\n",
      "average r2 scores (bias) is: 87.27\n",
      "std deviation of r2 scores (variance) is: 0.504\n",
      "best r2 score is: 88.037\n",
      "-------------------------------\n"
     ]
    }
   ],
   "source": [
    "\n",
    "#\"\"\"do the KFold cross-validation both with MAE values and r2 scores criteria\"\"\"\n",
    "print(\"\\n ------ Linear Regression CrossVal ------\")\n",
    "reg_mae_values, reg_r2_scores = do_kfold(model=linear_regressor)\n",
    "report_cross_val_results(mae_values=reg_mae_values, r2_scores=reg_r2_scores)"
   ]
  },
  {
   "cell_type": "code",
   "execution_count": 21,
   "id": "ea90e2fa",
   "metadata": {},
   "outputs": [
    {
     "name": "stdout",
     "output_type": "stream",
     "text": [
      "\n",
      " ------ Linear Regression TrainTest ------\n",
      "RMSE on training data: 19.113\n",
      "RMSE on test data: 23.505\n",
      "MAE on training data: 10.506\n",
      "MAE on test data: 11.878\n",
      "variance score on training data: 0.857\n",
      "variance score on test data: 0.859\n",
      "-------------------------------\n"
     ]
    }
   ],
   "source": [
    "\n",
    "#\"\"\"train the linear regression model and print the results on the never-seen-before test data\"\"\"\n",
    "print(\"\\n ------ Linear Regression TrainTest ------\")\n",
    "reg_training_pred, reg_test_pred = do_fit_predict(model=linear_regressor)\n",
    "report_results(training_pred=reg_training_pred, test_pred=reg_test_pred)"
   ]
  },
  {
   "cell_type": "code",
   "execution_count": 22,
   "id": "28e5002f",
   "metadata": {},
   "outputs": [
    {
     "name": "stdout",
     "output_type": "stream",
     "text": [
      "\n",
      " ------ MLP CrossVal ------\n",
      "average MAE values (bias) is: 9.931\n",
      "std deviation of MAE values (variance) is: 0.581\n",
      "best MAE value is: 8.993\n",
      "average r2 scores (bias) is: 89.922\n",
      "std deviation of r2 scores (variance) is: 1.517\n",
      "best r2 score is: 91.39\n",
      "-------------------------------\n",
      "\n",
      " ------ MLP TrainTest ------\n",
      "RMSE on training data: 14.710\n",
      "RMSE on test data: 18.905\n",
      "MAE on training data: 7.961\n",
      "MAE on test data: 9.888\n",
      "variance score on training data: 0.916\n",
      "variance score on test data: 0.909\n",
      "-------------------------------\n"
     ]
    },
    {
     "name": "stderr",
     "output_type": "stream",
     "text": [
      "/Users/elham/opt/anaconda3/envs/reddb/lib/python3.7/site-packages/sklearn/neural_network/_multilayer_perceptron.py:571: ConvergenceWarning: Stochastic Optimizer: Maximum iterations (1000) reached and the optimization hasn't converged yet.\n",
      "  % self.max_iter, ConvergenceWarning)\n"
     ]
    }
   ],
   "source": [
    "#\"\"\"\"define the shallow multi-layer perceptron model\"\"\"\n",
    "mlp = MLPRegressor(hidden_layer_sizes=(10,), max_iter=1000, n_iter_no_change=100, activation='relu',\n",
    "                   solver='adam', verbose=False, warm_start=False)\n",
    "\n",
    "#\"\"\"do the KFold cross-validation both with MAE values and r2 scores criteria\"\"\"\n",
    "print(\"\\n ------ MLP CrossVal ------\")\n",
    "mlp_mae_values, mlp_r2_scores = do_kfold(model=mlp)\n",
    "report_cross_val_results(mae_values=mlp_mae_values, r2_scores=mlp_r2_scores)\n",
    "\n",
    "#\"\"\"train the MLP model and print the results on the never-seen-before test data\"\"\"\n",
    "print(\"\\n ------ MLP TrainTest ------\")\n",
    "mlp_training_pred, mlp_test_pred = do_fit_predict(model=mlp)\n",
    "report_results(training_pred=mlp_training_pred, test_pred=mlp_test_pred)\n"
   ]
  },
  {
   "cell_type": "code",
   "execution_count": 23,
   "id": "117a8bc1",
   "metadata": {},
   "outputs": [
    {
     "name": "stdout",
     "output_type": "stream",
     "text": [
      "\n",
      " ------ Random Forest CrossVal ------\n",
      "average MAE values (bias) is: 6.987\n",
      "std deviation of MAE values (variance) is: 0.348\n",
      "best MAE value is: 6.348\n",
      "average r2 scores (bias) is: 92.295\n",
      "std deviation of r2 scores (variance) is: 0.683\n",
      "best r2 score is: 92.998\n",
      "-------------------------------\n",
      "\n",
      " ------ Random Forest TrainTest ------\n",
      "RMSE on training data: 5.689\n",
      "RMSE on test data: 18.951\n",
      "MAE on training data: 2.613\n",
      "MAE on test data: 8.453\n",
      "variance score on training data: 0.987\n",
      "variance score on test data: 0.908\n",
      "-------------------------------\n"
     ]
    }
   ],
   "source": [
    "\"\"\"define the random forest ensemble model\"\"\"\n",
    "rf = RandomForestRegressor(n_estimators=200, criterion=\"mae\", warm_start=False)\n",
    "\n",
    "\"\"\"do the KFold cross-validation both with MAE values and r2 scores criteria\"\"\"\n",
    "print(\"\\n ------ Random Forest CrossVal ------\")\n",
    "rf_mae_values, rf_r2_scores = do_kfold(model=rf)\n",
    "report_cross_val_results(mae_values=rf_mae_values, r2_scores=rf_r2_scores)\n",
    "\n",
    "\"\"\"train the RF model and print the results on the never-seen-before test data\"\"\"\n",
    "print(\"\\n ------ Random Forest TrainTest ------\")\n",
    "rf_train_pred, rf_test_pred = do_fit_predict(model=rf)\n",
    "report_results(training_pred=rf_train_pred, test_pred=rf_test_pred)"
   ]
  },
  {
   "cell_type": "code",
   "execution_count": 24,
   "id": "d8c5bb3c",
   "metadata": {},
   "outputs": [
    {
     "name": "stdout",
     "output_type": "stream",
     "text": [
      "\n",
      " ------ AdaBoost CrossVal ------\n",
      "average MAE values (bias) is: 17.134\n",
      "std deviation of MAE values (variance) is: 3.025\n",
      "best MAE value is: 13.048\n",
      "average r2 scores (bias) is: 83.388\n",
      "std deviation of r2 scores (variance) is: 3.662\n",
      "best r2 score is: 88.008\n",
      "-------------------------------\n",
      "\n",
      " ------ AdaBoost TrainTest ------\n",
      "RMSE on training data: 19.496\n",
      "RMSE on test data: 24.601\n",
      "MAE on training data: 15.051\n",
      "MAE on test data: 16.191\n",
      "variance score on training data: 0.852\n",
      "variance score on test data: 0.845\n",
      "-------------------------------\n"
     ]
    }
   ],
   "source": [
    "\"\"\"define the ada-boost ensemble model\"\"\"\n",
    "ab = AdaBoostRegressor(n_estimators=50, learning_rate=1.)\n",
    "\n",
    "\"\"\"do the KFold cross-validation both with MAE values and r2 scores criteria\"\"\"\n",
    "print(\"\\n ------ AdaBoost CrossVal ------\")\n",
    "ab_mae_values, ab_r2_scores = do_kfold(model=ab)\n",
    "report_cross_val_results(mae_values=ab_mae_values, r2_scores=ab_r2_scores)\n",
    "\n",
    "\"\"\"train the ada-boost model and print the results on the never-seen-before test data\"\"\"\n",
    "print(\"\\n ------ AdaBoost TrainTest ------\")\n",
    "ab_train_pred, ab_test_pred = do_fit_predict(model=ab)\n",
    "report_results(training_pred=ab_train_pred, test_pred=ab_test_pred)"
   ]
  },
  {
   "cell_type": "markdown",
   "id": "d3b8c8e2",
   "metadata": {},
   "source": [
    "## Results"
   ]
  },
  {
   "cell_type": "code",
   "execution_count": 25,
   "id": "c37589b2",
   "metadata": {},
   "outputs": [
    {
     "data": {
      "image/png": "[encoded data removed]",
      "text/plain": [
       "<Figure size 432x288 with 1 Axes>"
      ]
     },
     "metadata": {
      "needs_background": "light"
     },
     "output_type": "display_data"
    }
   ],
   "source": [
    "#\"\"\"plot driving range based on the battery quantity\"\"\"\n",
    "quantity = X[:,0]\n",
    "distance = y\n",
    "quantity = np.reshape(quantity, newshape=(-1, 1))\n",
    "#distance = np.reshape(distance, newshape=(-1, 1))\n",
    "\n",
    "quantity_linear_reg = LinearRegression()\n",
    "quantity_linear_reg.fit(X=quantity, y=distance)\n",
    "q_slope = quantity_linear_reg.coef_[0]\n",
    "q_intercept = quantity_linear_reg.intercept_\n",
    "q_predicted_distances = q_intercept + q_slope * quantity\n",
    "\n",
    "fig = plt.figure()\n",
    "plt.scatter(x=quantity, y=distance, s=15, c='black', linewidths=0.1)\n",
    "plt.plot(quantity, q_predicted_distances, c='red', linewidth=2)\n",
    "plt.legend(('fitted line', 'data records'), loc='lower right')\n",
    "plt.title(label='Linear Regression Plot')\n",
    "plt.xlabel(xlabel='quantity (kWh)'), plt.ylabel(ylabel='driving range (km)')\n",
    "plt.show()\n",
    "# fig.savefig('range_to_quantity.png')\n"
   ]
  },
  {
   "cell_type": "markdown",
   "id": "42794ce0",
   "metadata": {},
   "source": [
    "Here there is good correlation between the driving range and the quantity (energy consumption). Results obtained from linear regression model for the driving range in terms of the consumption energy amount.  "
   ]
  },
  {
   "cell_type": "code",
   "execution_count": 26,
   "id": "1203b0ac",
   "metadata": {},
   "outputs": [
    {
     "data": {
      "image/png": "[encoded data removed]",
      "text/plain": [
       "<Figure size 432x288 with 1 Axes>"
      ]
     },
     "metadata": {
      "needs_background": "light"
     },
     "output_type": "display_data"
    }
   ],
   "source": [
    "\"\"\"plot driving range based on the average speed\"\"\"\n",
    "avg_speed = X[:,7]\n",
    "avg_speed = np.reshape(avg_speed, newshape=(-1, 1))\n",
    "\n",
    "speed_linear_reg = LinearRegression()\n",
    "speed_linear_reg.fit(X=avg_speed, y=distance)\n",
    "s_slope = speed_linear_reg.coef_[0]\n",
    "s_intercept = speed_linear_reg.intercept_\n",
    "s_predicted_distances = s_intercept + s_slope * quantity\n",
    "\n",
    "fig = plt.figure()\n",
    "plt.scatter(x=avg_speed, y=distance, s=15, c='orange', linewidths=0.1)\n",
    "plt.plot(quantity, s_predicted_distances, c='blue', linewidth=2)\n",
    "plt.legend(('fitted line', 'data records'), loc='upper left')\n",
    "plt.title(label='Linear Regression Plot')\n",
    "plt.xlabel(xlabel='average speed (km/h)'), plt.ylabel(ylabel='driving range (km)')\n",
    "plt.xlim(-5, 110), plt.ylim(-30, 650)\n",
    "plt.show()"
   ]
  },
  {
   "cell_type": "markdown",
   "id": "faa18df8",
   "metadata": {},
   "source": [
    "Correlation between average speed and driving range is not noticeable. Figure shows linear regression model for driving range in terms of the average speed.\n",
    "\n",
    "The results show that the best average MAE is obtained via RF which is 6.35 km."
   ]
  },
  {
   "cell_type": "code",
   "execution_count": 34,
   "id": "433d4037",
   "metadata": {
    "scrolled": true
   },
   "outputs": [
    {
     "data": {
      "text/html": [
       "<div>\n",
       "<style scoped>\n",
       "    .dataframe tbody tr th:only-of-type {\n",
       "        vertical-align: middle;\n",
       "    }\n",
       "\n",
       "    .dataframe tbody tr th {\n",
       "        vertical-align: top;\n",
       "    }\n",
       "\n",
       "    .dataframe thead th {\n",
       "        text-align: right;\n",
       "    }\n",
       "</style>\n",
       "<table border=\"1\" class=\"dataframe\">\n",
       "  <thead>\n",
       "    <tr style=\"text-align: right;\">\n",
       "      <th></th>\n",
       "      <th>Model</th>\n",
       "      <th>Avergare MAE value</th>\n",
       "      <th>Best MAE value</th>\n",
       "      <th>Average r2 score</th>\n",
       "      <th>Best r2 score</th>\n",
       "    </tr>\n",
       "  </thead>\n",
       "  <tbody>\n",
       "    <tr>\n",
       "      <th>0</th>\n",
       "      <td>Linear Regression</td>\n",
       "      <td>10.631</td>\n",
       "      <td>10.206</td>\n",
       "      <td>87.27</td>\n",
       "      <td>88.037</td>\n",
       "    </tr>\n",
       "    <tr>\n",
       "      <th>1</th>\n",
       "      <td>MLP</td>\n",
       "      <td>9.931</td>\n",
       "      <td>8.993</td>\n",
       "      <td>89.922</td>\n",
       "      <td>91.39</td>\n",
       "    </tr>\n",
       "    <tr>\n",
       "      <th>2</th>\n",
       "      <td>Random Forest</td>\n",
       "      <td>6.987</td>\n",
       "      <td>6.348</td>\n",
       "      <td>92.295</td>\n",
       "      <td>92.998</td>\n",
       "    </tr>\n",
       "    <tr>\n",
       "      <th>3</th>\n",
       "      <td>AdaBoost</td>\n",
       "      <td>17.134</td>\n",
       "      <td>13.048</td>\n",
       "      <td>83.388</td>\n",
       "      <td>88.008</td>\n",
       "    </tr>\n",
       "  </tbody>\n",
       "</table>\n",
       "</div>"
      ],
      "text/plain": [
       "               Model Avergare MAE value Best MAE value Average r2 score  \\\n",
       "0  Linear Regression             10.631         10.206            87.27   \n",
       "1                MLP              9.931          8.993           89.922   \n",
       "2      Random Forest              6.987          6.348           92.295   \n",
       "3           AdaBoost             17.134         13.048           83.388   \n",
       "\n",
       "  Best r2 score  \n",
       "0        88.037  \n",
       "1         91.39  \n",
       "2        92.998  \n",
       "3        88.008  "
      ]
     },
     "execution_count": 34,
     "metadata": {},
     "output_type": "execute_result"
    }
   ],
   "source": [
    "\n",
    "data = np.array([('Linear Regression' , '10.631','10.206','87.27','88.037'),\n",
    "                ('MLP','9.931','8.993','89.922','91.39'),\n",
    "                ('Random Forest','6.987','6.348','92.295','92.998'),\n",
    "                ('AdaBoost','17.134','13.048','83.388','88.008')])\n",
    "columns = ['Model','Avergare MAE value', 'Best MAE value', 'Average r2 score', 'Best r2 score'] \n",
    "results = pd.DataFrame(data, columns = columns)\n",
    "results"
   ]
  },
  {
   "cell_type": "code",
   "execution_count": null,
   "id": "f757c2d9",
   "metadata": {},
   "outputs": [],
   "source": []
  }
 ],
 "metadata": {
  "kernelspec": {
   "display_name": "Python 3",
   "language": "python",
   "name": "python3"
  },
  "language_info": {
   "codemirror_mode": {
    "name": "ipython",
    "version": 3
   },
   "file_extension": ".py",
   "mimetype": "text/x-python",
   "name": "python",
   "nbconvert_exporter": "python",
   "pygments_lexer": "ipython3",
   "version": "3.7.7"
  }
 },
 "nbformat": 4,
 "nbformat_minor": 5
}

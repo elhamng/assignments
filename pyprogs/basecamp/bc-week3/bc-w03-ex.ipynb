{
 "cells": [
  {
   "cell_type": "code",
   "execution_count": 1,
   "metadata": {},
   "outputs": [],
   "source": [
    "# Write a program that draws “modular rectangles” like the ones below.\n",
    "# The user specifies the width and height of the rectangle, and the entries start at 0\n",
    "# and increase typewriter fashion from left to right and top to bottom, but are all done mod 10.\n",
    "# Example: Below are examples of a 3 x 5\n",
    "# 0 1 2 3 4\n",
    "# 5 6 7 8 9\n",
    "# 0 1 2 3 4"
   ]
  },
  {
   "cell_type": "code",
   "execution_count": 3,
   "metadata": {},
   "outputs": [
    {
     "name": "stdout",
     "output_type": "stream",
     "text": [
      "Enter your width:6\n",
      "Enter your height:7\n",
      "0 1 2 3 4 5 6 \n",
      "7 8 9 0 1 2 3 \n",
      "4 5 6 7 8 9 0 \n",
      "1 2 3 4 5 6 7 \n",
      "8 9 0 1 2 3 4 \n",
      "5 6 7 8 9 0 1 \n"
     ]
    }
   ],
   "source": [
    "row = int(input('Enter your width:'))\n",
    "column = int(input('Enter your height:'))\n",
    "mod = 10\n",
    "k = 0\n",
    "j = 0\n",
    "for i in range(0,row):\n",
    "    while j != column:\n",
    "        print(k, end = \" \")\n",
    "        k+=1\n",
    "        j+=1\n",
    "        if k == mod:\n",
    "            k = 0\n",
    "    j = 0\n",
    "    print()"
   ]
  },
  {
   "cell_type": "code",
   "execution_count": null,
   "metadata": {},
   "outputs": [],
   "source": []
  }
 ],
 "metadata": {
  "kernelspec": {
   "display_name": "Python 3",
   "language": "python",
   "name": "python3"
  },
  "language_info": {
   "codemirror_mode": {
    "name": "ipython",
    "version": 3
   },
   "file_extension": ".py",
   "mimetype": "text/x-python",
   "name": "python",
   "nbconvert_exporter": "python",
   "pygments_lexer": "ipython3",
   "version": "3.8.3"
  }
 },
 "nbformat": 4,
 "nbformat_minor": 4
}

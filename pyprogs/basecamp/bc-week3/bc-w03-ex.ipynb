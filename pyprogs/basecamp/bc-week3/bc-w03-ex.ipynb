{
 "cells": [
  {
   "cell_type": "code",
   "execution_count": 1,
   "metadata": {},
   "outputs": [
    {
     "name": "stdout",
     "output_type": "stream",
     "text": [
      "Enter your width:5\n",
      "Enter your height:6\n",
      "0 1 2 3 4 5 \n",
      "6 7 8 9 0 1 \n",
      "2 3 4 5 6 7 \n",
      "8 9 0 1 2 3 \n",
      "4 5 6 7 8 9 \n"
     ]
    }
   ],
   "source": [
    "# Write a program that draws “modular rectangles” like the ones below.\n",
    "# The user specifies the width and height of the rectangle, and the entries start at 0\n",
    "# and increase typewriter fashion from left to right and top to bottom, but are all done mod 10.\n",
    "# Example: Below are examples of a 3 x 5\n",
    "# 0 1 2 3 4\n",
    "# 5 6 7 8 9\n",
    "# 0 1 2 3 4\n",
    "\n",
    "row = int(input('Enter your width:'))\n",
    "column = int(input('Enter your height:'))\n",
    "mod = 10\n",
    "k = 0\n",
    "for i in range(0,row):\n",
    "    for j in range(0,column):\n",
    "        print(k, end = \" \")\n",
    "        k = (k+1) % mod\n",
    "    print()"
   ]
  },
  {
   "cell_type": "code",
   "execution_count": 2,
   "metadata": {},
   "outputs": [
    {
     "name": "stdout",
     "output_type": "stream",
     "text": [
      "\n",
      "01234\n",
      "56789\n",
      "01234\n"
     ]
    }
   ],
   "source": [
    "rows = 3\n",
    "cols = 5\n",
    "\n",
    "result = \"\"\n",
    "c = 0\n",
    "\n",
    "for _ in range(0,rows):\n",
    "    result = result + \"\\n\"\n",
    "    for _ in range(0,cols):\n",
    "        result = result + str(c)\n",
    "        c = (c + 1) % 10\n",
    "        \n",
    "print(result)\n",
    "        "
   ]
  },
  {
   "cell_type": "code",
   "execution_count": 3,
   "metadata": {},
   "outputs": [
    {
     "name": "stdout",
     "output_type": "stream",
     "text": [
      "Celsius \t | Fahrenheit\n",
      "______________________________\n",
      "0 \t\t | 32.0\n",
      "10 \t\t | 50.0\n",
      "20 \t\t | 68.0\n",
      "30 \t\t | 86.0\n",
      "40 \t\t | 104.0\n",
      "50 \t\t | 122.0\n",
      "60 \t\t | 140.0\n",
      "70 \t\t | 158.0\n",
      "80 \t\t | 176.0\n",
      "90 \t\t | 194.0\n",
      "100 \t\t | 212.0\n"
     ]
    }
   ],
   "source": [
    "# Write a program that displays a temperature conversion table for degrees Celsius and degrees Fahrenheit.\n",
    "# The table should include rows for all temperatures between 0 and 100 degrees\n",
    "# Celsius that are multiples of 10 degrees Celsius. Include appropriate headings on your columns.\n",
    "# The formula for converting between degrees Celsius and\n",
    "# degrees Fahrenheit can be found on the internet.\n",
    "\n",
    "print('Celsius','\\t','|', 'Fahrenheit')\n",
    "print('_'*30)\n",
    "for i in range(0,11):\n",
    "    print(i*10, '\\t'*2,'|', (i*10*9/5)+32)\n",
    "    "
   ]
  },
  {
   "cell_type": "code",
   "execution_count": 4,
   "metadata": {},
   "outputs": [
    {
     "name": "stdout",
     "output_type": "stream",
     "text": [
      "Enter your string:civic\n",
      "yes, it is palindrome.\n"
     ]
    }
   ],
   "source": [
    "# A string is a palindrome if it is identical forward and backward.\n",
    "# For example “anna”, “civic”, “level” and “hannah” are all examples of palindromic words.\n",
    "# Write a program that reads a string from the user and uses a loop to determines whether or not it is a\n",
    "# palindrome. Display the result, including a meaningful output message.\n",
    "\n",
    "s = input('Enter your string:')\n",
    "res = 0\n",
    "long = int(len(s)/2)\n",
    "for i in range(0, long):\n",
    "    if s[i] == s[-(i+1)]:\n",
    "        res = res + 1 \n",
    "if res == long:\n",
    "    print('yes, it is palindrome.')\n",
    "else:\n",
    "    print('no, it is not palindrome.')"
   ]
  },
  {
   "cell_type": "code",
   "execution_count": 5,
   "metadata": {},
   "outputs": [
    {
     "name": "stdout",
     "output_type": "stream",
     "text": [
      "c\n",
      "ic\n",
      "vic\n",
      "ivic\n",
      "civic\n",
      "yes, it is palindrome.\n"
     ]
    }
   ],
   "source": [
    "s = 'civic'\n",
    "w = ''\n",
    "for i in s:\n",
    "    w =  i + w\n",
    "    print(w)\n",
    "if w == s:\n",
    "    print('yes, it is palindrome.')\n",
    "else:\n",
    "    print('no, it is not palindrome.')"
   ]
  },
  {
   "cell_type": "code",
   "execution_count": 6,
   "metadata": {},
   "outputs": [
    {
     "name": "stdout",
     "output_type": "stream",
     "text": [
      "g\n",
      "og\n",
      "dog\n",
      "odog\n",
      "godog\n",
      "yes, it is palindrome.\n"
     ]
    }
   ],
   "source": [
    "# There are numerous phrases that are palindromes when spacing is ignored.\n",
    "# Examples include “go dog”, “flee to me remote elf” and “some men interpret nine memos”, among many others.\n",
    "# Write a program that it ignores spacing while determining whether or not a string is a palindrome.\n",
    "# For an additional challenge, extend your solution so that is also ignores punctuation marks and treats uppercase\n",
    "# and lowercase letters as equivalent.\n",
    "\n",
    "text = 'go dog'\n",
    "text = text.replace(' ','')\n",
    "w = ''\n",
    "for i in text:\n",
    "    w =  i + w\n",
    "    print(w)\n",
    "if w == text:\n",
    "    print('yes, it is palindrome.')\n",
    "else:\n",
    "    print('no, it is not palindrome.')\n",
    "    \n",
    "    "
   ]
  },
  {
   "cell_type": "code",
   "execution_count": 88,
   "metadata": {},
   "outputs": [
    {
     "name": "stdout",
     "output_type": "stream",
     "text": [
      "       1   2   3   4   5   6   7   8   9  10  11  12  13  14  15  16  17  18  19  20\n",
      "   1   1   2   3   4   5   6   7   8   9  10  11  12  13  14  15  16  17  18  19  20\n",
      "   2   2   4   6   8  10  12  14  16  18  20  22  24  26  28  30  32  34  36  38  40\n",
      "   3   3   6   9  12  15  18  21  24  27  30  33  36  39  42  45  48  51  54  57  60\n",
      "   4   4   8  12  16  20  24  28  32  36  40  44  48  52  56  60  64  68  72  76  80\n",
      "   5   5  10  15  20  25  30  35  40  45  50  55  60  65  70  75  80  85  90  95 100\n",
      "   6   6  12  18  24  30  36  42  48  54  60  66  72  78  84  90  96 102 108 114 120\n",
      "   7   7  14  21  28  35  42  49  56  63  70  77  84  91  98 105 112 119 126 133 140\n",
      "   8   8  16  24  32  40  48  56  64  72  80  88  96 104 112 120 128 136 144 152 160\n",
      "   9   9  18  27  36  45  54  63  72  81  90  99 108 117 126 135 144 153 162 171 180\n",
      "  10  10  20  30  40  50  60  70  80  90 100 110 120 130 140 150 160 170 180 190 200\n",
      "  11  11  22  33  44  55  66  77  88  99 110 121 132 143 154 165 176 187 198 209 220\n",
      "  12  12  24  36  48  60  72  84  96 108 120 132 144 156 168 180 192 204 216 228 240\n",
      "  13  13  26  39  52  65  78  91 104 117 130 143 156 169 182 195 208 221 234 247 260\n",
      "  14  14  28  42  56  70  84  98 112 126 140 154 168 182 196 210 224 238 252 266 280\n",
      "  15  15  30  45  60  75  90 105 120 135 150 165 180 195 210 225 240 255 270 285 300\n",
      "  16  16  32  48  64  80  96 112 128 144 160 176 192 208 224 240 256 272 288 304 320\n",
      "  17  17  34  51  68  85 102 119 136 153 170 187 204 221 238 255 272 289 306 323 340\n",
      "  18  18  36  54  72  90 108 126 144 162 180 198 216 234 252 270 288 306 324 342 360\n",
      "  19  19  38  57  76  95 114 133 152 171 190 209 228 247 266 285 304 323 342 361 380\n",
      "  20  20  40  60  80 100 120 140 160 180 200 220 240 260 280 300 320 340 360 380 400\n"
     ]
    }
   ],
   "source": [
    "# In this exercise you will create a program that displays a multiplication table\n",
    "# that shows the products of all combinations of integers\n",
    "# from 1 times 1 up to and including 10 times 10.\n",
    "# Your multiplication table should include a row of labels\n",
    "# across the top of it containing the numbers 1 through 10.\n",
    "# It should also include labels down the left side consisting of the numbers 1 through 10.\n",
    "start = 1\n",
    "end = 20\n",
    "print('   ', end = ' ')\n",
    "for i in range(start, end+1):\n",
    "    print('%4d'% i , end = '')\n",
    "print()\n",
    "w = 1\n",
    "for j in range(start,end+1):\n",
    "    print('%4d'% j, end='')\n",
    "    for k in range(start,end+1):\n",
    "        \n",
    "        print('%4d'%(j*k) ,end = '')\n",
    "        \n",
    "    print( )"
   ]
  },
  {
   "cell_type": "code",
   "execution_count": 73,
   "metadata": {},
   "outputs": [
    {
     "name": "stdout",
     "output_type": "stream",
     "text": [
      "       1   2   3   4   5   6   7   8   9  10\n",
      "   1   1   2   3   4   5   6   7   8   9  10\n",
      "   2   2   4   6   8  10  12  14  16  18  20\n",
      "   3   3   6   9  12  15  18  21  24  27  30\n",
      "   4   4   8  12  16  20  24  28  32  36  40\n",
      "   5   5  10  15  20  25  30  35  40  45  50\n",
      "   6   6  12  18  24  30  36  42  48  54  60\n",
      "   7   7  14  21  28  35  42  49  56  63  70\n",
      "   8   8  16  24  32  40  48  56  64  72  80\n",
      "   9   9  18  27  36  45  54  63  72  81  90\n",
      "  10  10  20  30  40  50  60  70  80  90 100\n"
     ]
    }
   ],
   "source": []
  },
  {
   "cell_type": "code",
   "execution_count": 69,
   "metadata": {},
   "outputs": [
    {
     "name": "stdout",
     "output_type": "stream",
     "text": [
      "   3"
     ]
    }
   ],
   "source": [
    "print(\"%4d\"%3, end=\"\")"
   ]
  },
  {
   "cell_type": "code",
   "execution_count": null,
   "metadata": {},
   "outputs": [],
   "source": []
  }
 ],
 "metadata": {
  "kernelspec": {
   "display_name": "Python 3",
   "language": "python",
   "name": "python3"
  },
  "language_info": {
   "codemirror_mode": {
    "name": "ipython",
    "version": 3
   },
   "file_extension": ".py",
   "mimetype": "text/x-python",
   "name": "python",
   "nbconvert_exporter": "python",
   "pygments_lexer": "ipython3",
   "version": "3.8.3"
  }
 },
 "nbformat": 4,
 "nbformat_minor": 4
}

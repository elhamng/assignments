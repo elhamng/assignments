{
 "cells": [
  {
   "cell_type": "code",
   "execution_count": 1,
   "metadata": {},
   "outputs": [],
   "source": [
    "# Write a program that draws “modular rectangles” like the ones below.\n",
    "# The user specifies the width and height of the rectangle, and the entries start at 0\n",
    "# and increase typewriter fashion from left to right and top to bottom, but are all done mod 10.\n",
    "# Example: Below are examples of a 3 x 5\n",
    "# 0 1 2 3 4\n",
    "# 5 6 7 8 9\n",
    "# 0 1 2 3 4"
   ]
  },
  {
   "cell_type": "code",
   "execution_count": 11,
   "metadata": {},
   "outputs": [
    {
     "name": "stdout",
     "output_type": "stream",
     "text": [
      "Enter your width:4\n",
      "Enter your height:6\n",
      "0 1 2 3 4 5 \n",
      "6 7 8 9 0 1 \n",
      "2 3 4 5 6 7 \n",
      "8 9 0 1 2 3 \n"
     ]
    }
   ],
   "source": [
    "row = int(input('Enter your width:'))\n",
    "column = int(input('Enter your height:'))\n",
    "mod = 10\n",
    "k = 0\n",
    "for i in range(0,row):\n",
    "    for j in range(0,column):\n",
    "        print(k, end = \" \")\n",
    "        k = (k+1) % mod\n",
    "    print()"
   ]
  },
  {
   "cell_type": "code",
   "execution_count": 6,
   "metadata": {},
   "outputs": [
    {
     "name": "stdout",
     "output_type": "stream",
     "text": [
      "\n",
      "01234\n",
      "56789\n",
      "01234\n"
     ]
    }
   ],
   "source": [
    "rows = 3\n",
    "cols = 5\n",
    "\n",
    "result = \"\"\n",
    "c = 0\n",
    "\n",
    "for _ in range(0,rows):\n",
    "    result = result + \"\\n\"\n",
    "    for _ in range(0,cols):\n",
    "        result = result + str(c)\n",
    "        c = (c + 1) % 10\n",
    "        \n",
    "print(result)\n",
    "        "
   ]
  },
  {
   "cell_type": "code",
   "execution_count": 13,
   "metadata": {},
   "outputs": [],
   "source": [
    "# Write a program that displays a temperature conversion table for degrees Celsius and degrees Fahrenheit.\n",
    "# The table should include rows for all temperatures between 0 and 100 degrees\n",
    "# Celsius that are multiples of 10 degrees Celsius. Include appropriate headings on your columns.\n",
    "# The formula for converting between degrees Celsius and\n",
    "# degrees Fahrenheit can be found on the internet."
   ]
  },
  {
   "cell_type": "code",
   "execution_count": 33,
   "metadata": {},
   "outputs": [
    {
     "name": "stdout",
     "output_type": "stream",
     "text": [
      "Celsius \t | Fahrenheit\n",
      "______________________________\n",
      "0 \t\t | 32.0\n",
      "10 \t\t | 50.0\n",
      "20 \t\t | 68.0\n",
      "30 \t\t | 86.0\n",
      "40 \t\t | 104.0\n",
      "50 \t\t | 122.0\n",
      "60 \t\t | 140.0\n",
      "70 \t\t | 158.0\n",
      "80 \t\t | 176.0\n",
      "90 \t\t | 194.0\n",
      "100 \t\t | 212.0\n"
     ]
    }
   ],
   "source": [
    "print('Celsius','\\t','|', 'Fahrenheit')\n",
    "print('_'*30)\n",
    "for i in range(0,11):\n",
    "    print(i*10, '\\t'*2,'|', (i*10*9/5)+32)"
   ]
  },
  {
   "cell_type": "code",
   "execution_count": 34,
   "metadata": {},
   "outputs": [],
   "source": [
    "# A string is a palindrome if it is identical forward and backward.\n",
    "# For example “anna”, “civic”, “level” and “hannah” are all examples of palindromic words.\n",
    "# Write a program that reads a string from the user and uses a loop to determines whether or not it is a\n",
    "# palindrome. Display the result, including a meaningful output message."
   ]
  },
  {
   "cell_type": "code",
   "execution_count": null,
   "metadata": {},
   "outputs": [],
   "source": [
    "str = input('Enter your string:')\n",
    "res = 0\n",
    "long = int(len(str)/2)\n",
    "for i in range(0, long):\n",
    "    if str[i] == str[-(i+1)]:\n",
    "        res = res + 1 \n",
    "if res == long:\n",
    "    print('yes, it is palindrome.')\n",
    "else:\n",
    "    print('no, it is not palindrome.')\n",
    "    \n",
    "    "
   ]
  },
  {
   "cell_type": "code",
   "execution_count": null,
   "metadata": {},
   "outputs": [],
   "source": []
  },
  {
   "cell_type": "code",
   "execution_count": null,
   "metadata": {},
   "outputs": [],
   "source": []
  }
 ],
 "metadata": {
  "kernelspec": {
   "display_name": "Python 3",
   "language": "python",
   "name": "python3"
  },
  "language_info": {
   "codemirror_mode": {
    "name": "ipython",
    "version": 3
   },
   "file_extension": ".py",
   "mimetype": "text/x-python",
   "name": "python",
   "nbconvert_exporter": "python",
   "pygments_lexer": "ipython3",
   "version": "3.8.3"
  }
 },
 "nbformat": 4,
 "nbformat_minor": 4
}
